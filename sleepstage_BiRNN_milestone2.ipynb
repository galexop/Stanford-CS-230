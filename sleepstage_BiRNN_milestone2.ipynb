{
 "cells": [
  {
   "cell_type": "code",
   "execution_count": 1,
   "metadata": {
    "colab": {
     "base_uri": "https://localhost:8080/",
     "height": 36
    },
    "colab_type": "code",
    "executionInfo": {
     "elapsed": 353,
     "status": "ok",
     "timestamp": 1582251632313,
     "user": {
      "displayName": "Joonseok Yang",
      "photoUrl": "",
      "userId": "03539014411447276944"
     },
     "user_tz": 480
    },
    "id": "87G97PL8F63j",
    "outputId": "1cac8523-b45f-4ecc-c8bf-eff122bfeff5"
   },
   "outputs": [
    {
     "name": "stderr",
     "output_type": "stream",
     "text": [
      "Using TensorFlow backend.\n"
     ]
    },
    {
     "name": "stdout",
     "output_type": "stream",
     "text": [
      "WARNING:tensorflow:From /home/ec2-user/anaconda3/envs/tensorflow_p36/lib/python3.6/site-packages/tensorflow_core/__init__.py:1467: The name tf.estimator.inputs is deprecated. Please use tf.compat.v1.estimator.inputs instead.\n",
      "\n",
      "WARNING:tensorflow:From /home/ec2-user/anaconda3/envs/tensorflow_p36/lib/python3.6/site-packages/keras/backend/tensorflow_backend.py:174: The name tf.get_default_session is deprecated. Please use tf.compat.v1.get_default_session instead.\n",
      "\n",
      "WARNING:tensorflow:From /home/ec2-user/anaconda3/envs/tensorflow_p36/lib/python3.6/site-packages/keras/backend/tensorflow_backend.py:181: The name tf.ConfigProto is deprecated. Please use tf.compat.v1.ConfigProto instead.\n",
      "\n",
      "WARNING:tensorflow:From /home/ec2-user/anaconda3/envs/tensorflow_p36/lib/python3.6/site-packages/keras/backend/tensorflow_backend.py:186: The name tf.Session is deprecated. Please use tf.compat.v1.Session instead.\n",
      "\n",
      "WARNING:tensorflow:From /home/ec2-user/anaconda3/envs/tensorflow_p36/lib/python3.6/site-packages/keras/backend/tensorflow_backend.py:190: The name tf.global_variables is deprecated. Please use tf.compat.v1.global_variables instead.\n",
      "\n",
      "['/job:localhost/replica:0/task:0/device:GPU:0']\n"
     ]
    }
   ],
   "source": [
    "import numpy as np\n",
    "import random\n",
    "import keras\n",
    "import scipy.io as sio\n",
    "from scipy.stats import skew, kurtosis\n",
    "import pywt\n",
    "import matplotlib.pyplot as plt\n",
    "import json\n",
    "\n",
    "import os\n",
    "os.environ[\"CUDA_DEVICE_ORDER\"]=\"PCI_BUS_ID\"\n",
    "os.environ[\"CUDA_VISIBLE_DEVICES\"]=\"0\"\n",
    "\n",
    "import tensorflow as tf\n",
    "from keras import layers\n",
    "from keras.layers import Input, Dropout, Add, Dense, Activation, ZeroPadding2D, BatchNormalization, Flatten, Conv2D, AveragePooling2D, MaxPooling2D, GlobalMaxPooling2D, LSTM,Conv1D, AveragePooling1D, MaxPooling1D, GlobalMaxPooling1D, Bidirectional, TimeDistributed\n",
    "from keras.models import Model, load_model, Sequential\n",
    "from keras.preprocessing import image\n",
    "from keras.utils import layer_utils, plot_model, to_categorical\n",
    "from keras.utils.data_utils import get_file\n",
    "from keras import optimizers\n",
    "from keras import callbacks\n",
    "from keras import regularizers\n",
    "from keras.applications.imagenet_utils import preprocess_input\n",
    "from keras.utils.vis_utils import model_to_dot\n",
    "from keras.utils import plot_model\n",
    "from keras.initializers import glorot_uniform\n",
    "import keras.backend as K\n",
    "print(K.tensorflow_backend._get_available_gpus())"
   ]
  },
  {
   "cell_type": "code",
   "execution_count": 2,
   "metadata": {
    "colab": {},
    "colab_type": "code",
    "id": "TsRA4vVGF632"
   },
   "outputs": [],
   "source": [
    "'''\n",
    "Split data into train, dev, test. For this stage, we'll only split train/dev set.\n",
    "'''\n",
    "'''\n",
    "Training set is from a standard polysomnography (PSG) data.\n",
    "Dev set is from a proposed sticker-like electrode (stk) data\n",
    "'''\n",
    "def get_dataset(mat_path='Formatted_Data/'):   \n",
    "    path = mat_path\n",
    "    files = os.listdir(path)\n",
    "\n",
    "    X_train = []\n",
    "    Y_train = []\n",
    "    X_dev = []\n",
    "    Y_dev = []\n",
    " \n",
    "    mat_contents = sio.loadmat(path + 'mrkStage.mat')\n",
    "        \n",
    "    X_stk = mat_contents['mrkSticker']\n",
    "    X_PSG = mat_contents['mrkPSG']\n",
    "    Y_stk = np.transpose(mat_contents['mrkStickerLabel'])\n",
    "    Y_PSG = np.transpose(mat_contents['mrkPSGLabel'])\n",
    "        \n",
    "    X_train = X_PSG\n",
    "    Y_train = Y_PSG\n",
    "        \n",
    "    X_dev = X_stk\n",
    "    Y_dev = Y_stk \n",
    "\n",
    "    return X_train, Y_train, X_dev, Y_dev\n",
    "\n",
    "X_train, Y_train, X_dev, Y_dev = get_dataset()\n",
    "\n",
    "'''\n",
    "Switch to binary label case. I.E., all non-N1stage labels are lumped to 1.\n",
    "'''\n",
    "Y_train[Y_train==1] = 0\n",
    "Y_train[Y_train==2] = 0\n",
    "Y_train[Y_train==4] = 0\n",
    "Y_train[Y_train==3] = 1\n",
    "\n",
    "Y_dev[Y_dev==1] = 0\n",
    "Y_dev[Y_dev==2] = 0\n",
    "Y_dev[Y_dev==4] = 0\n",
    "Y_dev[Y_dev==3] = 1\n",
    "\n",
    "Y_train = to_categorical(Y_train)\n",
    "Y_dev = to_categorical(Y_dev)\n",
    "\n",
    "X_train = np.transpose(np.reshape(X_train, (X_train.shape[0], 1, X_train.shape[1])), (0, 2, 1))\n",
    "X_dev = np.transpose(np.reshape(X_dev, (X_dev.shape[0], 1, X_dev.shape[1])), (0, 2, 1))\n"
   ]
  },
  {
   "cell_type": "code",
   "execution_count": 3,
   "metadata": {
    "colab": {},
    "colab_type": "code",
    "id": "Tsm8iR_mF64K"
   },
   "outputs": [],
   "source": [
    "'''\n",
    "Implement Bidirectional LSTM Model\n",
    "Currently input is a whole 30sec epoch snippet (6000,1  vector)\n",
    "'''\n",
    "def LSTMModel_Skip(input_shape,classes):\n",
    "    init = Input(shape=(6000,1))\n",
    "    print(init.shape)\n",
    "    X = init\n",
    "    X = Bidirectional(LSTM(128, return_sequences=True),\n",
    "                   input_shape=input_shape)(X)\n",
    "    print(input_shape)\n",
    "    X = Dropout(rate=0.5)(X)\n",
    "    X = Bidirectional(LSTM(128, return_sequences=True),\n",
    "                   input_shape=input_shape)(X)\n",
    "    X = Dropout(rate=0.5)(X)\n",
    "    print(X.shape)\n",
    "    X = Flatten()(X)\n",
    "    print(X.shape)\n",
    "    X = Dense(classes, activation='softmax')(X)\n",
    "    print(X.shape)\n",
    "    out = X\n",
    "    \n",
    "    \n",
    "    model = Model(inputs = init, outputs = out)\n",
    "    print(model.summary())\n",
    "    return model\n"
   ]
  },
  {
   "cell_type": "code",
   "execution_count": 4,
   "metadata": {
    "colab": {
     "base_uri": "https://localhost:8080/",
     "height": 840
    },
    "colab_type": "code",
    "executionInfo": {
     "elapsed": 2714,
     "status": "ok",
     "timestamp": 1582251634711,
     "user": {
      "displayName": "Joonseok Yang",
      "photoUrl": "",
      "userId": "03539014411447276944"
     },
     "user_tz": 480
    },
    "id": "UuNv1wSIF64T",
    "outputId": "29eed056-018a-4227-efd2-65494721890b"
   },
   "outputs": [
    {
     "name": "stdout",
     "output_type": "stream",
     "text": [
      "WARNING:tensorflow:From /home/ec2-user/anaconda3/envs/tensorflow_p36/lib/python3.6/site-packages/keras/backend/tensorflow_backend.py:74: The name tf.get_default_graph is deprecated. Please use tf.compat.v1.get_default_graph instead.\n",
      "\n",
      "WARNING:tensorflow:From /home/ec2-user/anaconda3/envs/tensorflow_p36/lib/python3.6/site-packages/keras/backend/tensorflow_backend.py:517: The name tf.placeholder is deprecated. Please use tf.compat.v1.placeholder instead.\n",
      "\n",
      "(?, 6000, 1)\n",
      "WARNING:tensorflow:From /home/ec2-user/anaconda3/envs/tensorflow_p36/lib/python3.6/site-packages/keras/backend/tensorflow_backend.py:4138: The name tf.random_uniform is deprecated. Please use tf.random.uniform instead.\n",
      "\n",
      "(1320, 1)\n",
      "WARNING:tensorflow:From /home/ec2-user/anaconda3/envs/tensorflow_p36/lib/python3.6/site-packages/keras/backend/tensorflow_backend.py:133: The name tf.placeholder_with_default is deprecated. Please use tf.compat.v1.placeholder_with_default instead.\n",
      "\n",
      "WARNING:tensorflow:From /home/ec2-user/anaconda3/envs/tensorflow_p36/lib/python3.6/site-packages/keras/backend/tensorflow_backend.py:3445: calling dropout (from tensorflow.python.ops.nn_ops) with keep_prob is deprecated and will be removed in a future version.\n",
      "Instructions for updating:\n",
      "Please use `rate` instead of `keep_prob`. Rate should be set to `rate = 1 - keep_prob`.\n",
      "(?, ?, 256)\n",
      "(?, ?)\n",
      "(?, 2)\n",
      "_________________________________________________________________\n",
      "Layer (type)                 Output Shape              Param #   \n",
      "=================================================================\n",
      "input_1 (InputLayer)         (None, 6000, 1)           0         \n",
      "_________________________________________________________________\n",
      "bidirectional_1 (Bidirection (None, 6000, 256)         133120    \n",
      "_________________________________________________________________\n",
      "dropout_1 (Dropout)          (None, 6000, 256)         0         \n",
      "_________________________________________________________________\n",
      "bidirectional_2 (Bidirection (None, 6000, 256)         394240    \n",
      "_________________________________________________________________\n",
      "dropout_2 (Dropout)          (None, 6000, 256)         0         \n",
      "_________________________________________________________________\n",
      "flatten_1 (Flatten)          (None, 1536000)           0         \n",
      "_________________________________________________________________\n",
      "dense_1 (Dense)              (None, 2)                 3072002   \n",
      "=================================================================\n",
      "Total params: 3,599,362\n",
      "Trainable params: 3,599,362\n",
      "Non-trainable params: 0\n",
      "_________________________________________________________________\n",
      "None\n",
      "WARNING:tensorflow:From /home/ec2-user/anaconda3/envs/tensorflow_p36/lib/python3.6/site-packages/keras/optimizers.py:790: The name tf.train.Optimizer is deprecated. Please use tf.compat.v1.train.Optimizer instead.\n",
      "\n",
      "WARNING:tensorflow:From /home/ec2-user/anaconda3/envs/tensorflow_p36/lib/python3.6/site-packages/keras/backend/tensorflow_backend.py:3295: The name tf.log is deprecated. Please use tf.math.log instead.\n",
      "\n"
     ]
    }
   ],
   "source": [
    "'''\n",
    "Assign model, set learning rate, reset states. #classes =2 for binary version. 5 for final version.\n",
    "'''\n",
    "num_classes = 2\n",
    "\n",
    "model = LSTMModel_Skip((X_train.shape[0], X_train.shape[2]), num_classes)\n",
    "\n",
    "adam = optimizers.Adam(lr=0.001)\n",
    "model.compile(loss='categorical_crossentropy', optimizer=adam, metrics=['accuracy'])\n",
    "model.reset_states()"
   ]
  },
  {
   "cell_type": "code",
   "execution_count": 5,
   "metadata": {
    "colab": {
     "base_uri": "https://localhost:8080/",
     "height": 317
    },
    "colab_type": "code",
    "executionInfo": {
     "elapsed": 45991,
     "status": "ok",
     "timestamp": 1582251677997,
     "user": {
      "displayName": "Joonseok Yang",
      "photoUrl": "",
      "userId": "03539014411447276944"
     },
     "user_tz": 480
    },
    "id": "Dd7g20JCF64e",
    "outputId": "010b0766-d5bc-43a3-98a0-5a2899fdbb28"
   },
   "outputs": [
    {
     "name": "stdout",
     "output_type": "stream",
     "text": [
      "WARNING:tensorflow:From /home/ec2-user/anaconda3/envs/tensorflow_p36/lib/python3.6/site-packages/tensorflow_core/python/ops/math_grad.py:1424: where (from tensorflow.python.ops.array_ops) is deprecated and will be removed in a future version.\n",
      "Instructions for updating:\n",
      "Use tf.where in 2.0, which has the same broadcast rule as np.where\n",
      "WARNING:tensorflow:From /home/ec2-user/anaconda3/envs/tensorflow_p36/lib/python3.6/site-packages/keras/backend/tensorflow_backend.py:986: The name tf.assign_add is deprecated. Please use tf.compat.v1.assign_add instead.\n",
      "\n",
      "WARNING:tensorflow:From /home/ec2-user/anaconda3/envs/tensorflow_p36/lib/python3.6/site-packages/keras/backend/tensorflow_backend.py:973: The name tf.assign is deprecated. Please use tf.compat.v1.assign instead.\n",
      "\n",
      "Train on 1320 samples, validate on 1320 samples\n",
      "Epoch 1/3\n",
      "WARNING:tensorflow:From /home/ec2-user/anaconda3/envs/tensorflow_p36/lib/python3.6/site-packages/keras/backend/tensorflow_backend.py:199: The name tf.is_variable_initialized is deprecated. Please use tf.compat.v1.is_variable_initialized instead.\n",
      "\n",
      "WARNING:tensorflow:From /home/ec2-user/anaconda3/envs/tensorflow_p36/lib/python3.6/site-packages/keras/backend/tensorflow_backend.py:206: The name tf.variables_initializer is deprecated. Please use tf.compat.v1.variables_initializer instead.\n",
      "\n",
      "1320/1320 [==============================] - 1362s 1s/step - loss: 2.6490 - acc: 0.8121 - val_loss: 2.6131 - val_acc: 0.8379\n",
      "Epoch 2/3\n",
      "1320/1320 [==============================] - 1356s 1s/step - loss: 2.6131 - acc: 0.8379 - val_loss: 2.6131 - val_acc: 0.8379\n",
      "Epoch 3/3\n",
      "1320/1320 [==============================] - 1349s 1s/step - loss: 2.6131 - acc: 0.8379 - val_loss: 2.6131 - val_acc: 0.8379\n"
     ]
    },
    {
     "data": {
      "text/plain": [
       "'\\nThis is the end of LSTM RNN model test\\n'"
      ]
     },
     "execution_count": 5,
     "metadata": {},
     "output_type": "execute_result"
    }
   ],
   "source": [
    "'''\n",
    "Set class weights, run model\n",
    "'''\n",
    "class_weight = {0: 1,\n",
    "                1: 10\n",
    "                }\n",
    "\n",
    "history = model.fit(x=X_train[:,:,:], y=Y_train[:], epochs=3, batch_size=64, \n",
    "                    validation_data=(X_dev[:,:,:], Y_dev[:]), \n",
    "                    verbose=1, shuffle=False)\n",
    "\n",
    "'''\n",
    "This is the end of LSTM RNN model test\n",
    "'''"
   ]
  },
  {
   "cell_type": "code",
   "execution_count": 0,
   "metadata": {
    "colab": {},
    "colab_type": "code",
    "id": "ayOyy1d9F64o"
   },
   "outputs": [],
   "source": [
    "# '''\n",
    "# Save model, history\n",
    "# '''\n",
    "# model.save('demo_1')\n",
    "# np.save('demo_1', history)"
   ]
  },
  {
   "cell_type": "code",
   "execution_count": 6,
   "metadata": {
    "colab": {},
    "colab_type": "code",
    "id": "47gEvWm3F64x"
   },
   "outputs": [],
   "source": [
    "'''\n",
    "Assign loss and accuracy\n",
    "'''\n",
    "\n",
    "loss = history.history[\"loss\"]\n",
    "val_loss = history.history[\"val_loss\"]\n",
    "acc = history.history[\"acc\"]\n",
    "val_acc = history.history[\"val_acc\"]\n",
    "\n"
   ]
  },
  {
   "cell_type": "code",
   "execution_count": 7,
   "metadata": {
    "colab": {
     "base_uri": "https://localhost:8080/",
     "height": 573
    },
    "colab_type": "code",
    "executionInfo": {
     "elapsed": 47307,
     "status": "ok",
     "timestamp": 1582251679341,
     "user": {
      "displayName": "Joonseok Yang",
      "photoUrl": "",
      "userId": "03539014411447276944"
     },
     "user_tz": 480
    },
    "id": "4RzjV8fgF65d",
    "outputId": "a26ac722-85f6-4c9c-eb39-ea2d7408d11e"
   },
   "outputs": [
    {
     "data": {
      "image/png": "[encoded data removed]",
      "text/plain": [
       "<Figure size 432x288 with 1 Axes>"
      ]
     },
     "metadata": {},
     "output_type": "display_data"
    },
    {
     "data": {
      "image/png": "[encoded data removed]",
      "text/plain": [
       "<Figure size 432x288 with 1 Axes>"
      ]
     },
     "metadata": {},
     "output_type": "display_data"
    }
   ],
   "source": [
    "'''\n",
    "Plot loss and accuracy\n",
    "'''\n",
    "plt.plot(loss)\n",
    "plt.plot(val_loss)\n",
    "plt.title('Model loss')\n",
    "plt.ylabel('Loss')\n",
    "plt.xlabel('Epoch')\n",
    "plt.legend([\"Loss\",\"Validation loss\"])\n",
    "plt.show()\n",
    "\n",
    "plt.plot(acc)\n",
    "plt.plot(val_acc)\n",
    "plt.title('Model accuracy')\n",
    "plt.ylabel('Accuracy')\n",
    "plt.xlabel('Epoch')\n",
    "plt.legend([\"Accuracy\",\"Validation accuracy\"])\n",
    "plt.show()"
   ]
  },
  {
   "cell_type": "code",
   "execution_count": null,
   "metadata": {},
   "outputs": [],
   "source": []
  }
 ],
 "metadata": {
  "colab": {
   "collapsed_sections": [],
   "name": "sleepstage_RNN_milestone2.ipynb",
   "provenance": []
  },
  "kernelspec": {
   "display_name": "Python 3",
   "language": "python",
   "name": "python3"
  },
  "language_info": {
   "codemirror_mode": {
    "name": "ipython",
    "version": 3
   },
   "file_extension": ".py",
   "mimetype": "text/x-python",
   "name": "python",
   "nbconvert_exporter": "python",
   "pygments_lexer": "ipython3",
   "version": "3.6.5"
  }
 },
 "nbformat": 4,
 "nbformat_minor": 1
}
